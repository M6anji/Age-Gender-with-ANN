{
 "cells": [
  {
   "cell_type": "code",
   "execution_count": 5,
   "id": "ea4c618b",
   "metadata": {},
   "outputs": [],
   "source": [
    "import cv2\n",
    "import glob\n",
    "import tensorflow as tf\n",
    "from tensorflow import keras\n",
    "from tensorflow.keras.utils import to_categorical\n",
    "from sklearn.preprocessing import LabelBinarizer , OneHotEncoder , OrdinalEncoder , MinMaxScaler , StandardScaler\n",
    "import numpy as np \n",
    "from tensorflow.keras import layers , models\n",
    "from sklearn.model_selection import train_test_split\n",
    "from tensorflow.keras.regularizers import L1, L2\n",
    "from tensorflow.keras.layers import BatchNormalization, Dropout"
   ]
  },
  {
   "cell_type": "code",
   "execution_count": 6,
   "id": "491cb289",
   "metadata": {},
   "outputs": [],
   "source": [
    "X_train = []\n",
    "y_train = []"
   ]
  },
  {
   "cell_type": "code",
   "execution_count": 7,
   "id": "c004df11",
   "metadata": {},
   "outputs": [],
   "source": [
    "LB = LabelBinarizer()"
   ]
  },
  {
   "cell_type": "code",
   "execution_count": 8,
   "id": "06b0293d",
   "metadata": {},
   "outputs": [],
   "source": [
    "for item in glob.glob(\"E:\\\\00Code\\\\Dataset\\\\Gender2\\\\train\\\\*\\\\*\"):\n",
    "    image = cv2.imread(item)\n",
    "    resize_img = cv2.resize(image, (64,64))\n",
    "    normalize_img = resize_img / 255.0\n",
    "    flatten_img = normalize_img.flatten()\n",
    "    X_train.append(flatten_img)\n",
    "    y = item.split(\"\\\\\")[-1].split(\"-\")[0]\n",
    "    y_train.append(y)"
   ]
  },
  {
   "cell_type": "code",
   "execution_count": 10,
   "id": "9b15db39",
   "metadata": {},
   "outputs": [
    {
     "name": "stdout",
     "output_type": "stream",
     "text": [
      "{'Male', 'Female'}\n"
     ]
    }
   ],
   "source": [
    "unique_items = set(y_train)  \n",
    "print(unique_items)"
   ]
  },
  {
   "cell_type": "code",
   "execution_count": 11,
   "id": "a23fdf16",
   "metadata": {},
   "outputs": [],
   "source": [
    "X_test = []\n",
    "y_test = []"
   ]
  },
  {
   "cell_type": "code",
   "execution_count": 12,
   "id": "7adb6a24",
   "metadata": {},
   "outputs": [],
   "source": [
    "for item in glob.glob(\"E:\\\\00Code\\\\Dataset\\\\Gender2\\\\test\\\\*\\\\*\"):\n",
    "    image = cv2.imread(item)\n",
    "    resize_img = cv2.resize(image, (64,64))\n",
    "    normalize_img = resize_img / 255.0\n",
    "    flatten_img = normalize_img.flatten()\n",
    "    X_test.append(flatten_img)\n",
    "    y = item.split(\"\\\\\")[-1].split(\"-\")[0]\n",
    "    y_test.append(y)"
   ]
  },
  {
   "cell_type": "code",
   "execution_count": 13,
   "id": "c35d09f4",
   "metadata": {},
   "outputs": [],
   "source": [
    "# X_train , X_test , y_train , y_test =train_test_split(datas , labels ,test_size=0.2, random_state=101 , shuffle=True)"
   ]
  },
  {
   "cell_type": "code",
   "execution_count": 14,
   "id": "a5b482f8",
   "metadata": {},
   "outputs": [],
   "source": [
    "X_train = np.array(X_train)\n",
    "X_test = np.array(X_test)"
   ]
  },
  {
   "cell_type": "code",
   "execution_count": 15,
   "id": "99cbd8da",
   "metadata": {},
   "outputs": [
    {
     "name": "stdout",
     "output_type": "stream",
     "text": [
      "(6564, 12288)\n",
      "(1000, 12288)\n"
     ]
    }
   ],
   "source": [
    "print(X_train.shape)\n",
    "print(X_test.shape)"
   ]
  },
  {
   "cell_type": "code",
   "execution_count": 16,
   "id": "a9f1a0bf",
   "metadata": {},
   "outputs": [],
   "source": [
    "y_train = LB.fit_transform(y_train)\n",
    "y_test = LB.transform(y_test)\n",
    "y_train = to_categorical(y_train)\n",
    "y_test = to_categorical(y_test)"
   ]
  },
  {
   "cell_type": "code",
   "execution_count": 17,
   "id": "3a45b36b",
   "metadata": {},
   "outputs": [],
   "source": [
    "scaler = StandardScaler()"
   ]
  },
  {
   "cell_type": "code",
   "execution_count": 18,
   "id": "790bb574",
   "metadata": {},
   "outputs": [],
   "source": [
    "scaled_x_train = scaler.fit_transform(X_train) \n",
    "scaled_x_test = scaler.transform(X_test)"
   ]
  },
  {
   "cell_type": "code",
   "execution_count": 19,
   "id": "36c40882",
   "metadata": {},
   "outputs": [],
   "source": [
    "# Network = models.Sequential([\n",
    "#     layers.Dense(10, activation = \"relu\", input_shape = (scaled_x_train.shape[1],)),\n",
    "#     layers.Dense(8, activation = \"relu\",activity_regularizer=L2(0.001)),\n",
    "#     layers.Dense(2, activation = \"sigmoid\")\n",
    "# ])"
   ]
  },
  {
   "cell_type": "code",
   "execution_count": 48,
   "id": "7705b812",
   "metadata": {},
   "outputs": [],
   "source": [
    "Network = models.Sequential([\n",
    "    layers.Dense(128, activation = \"relu\", input_shape = (12288,)),\n",
    "    layers.Dense(64 , activation=\"relu\"),\n",
    "    layers.BatchNormalization(),\n",
    "    layers.Dropout(0.2),\n",
    "    layers.Dense(2 , activation=\"sigmoid\")\n",
    "])"
   ]
  },
  {
   "cell_type": "code",
   "execution_count": 49,
   "id": "7cf27c54",
   "metadata": {},
   "outputs": [
    {
     "data": {
      "text/html": [
       "<pre style=\"white-space:pre;overflow-x:auto;line-height:normal;font-family:Menlo,'DejaVu Sans Mono',consolas,'Courier New',monospace\"><span style=\"font-weight: bold\">Model: \"sequential_5\"</span>\n",
       "</pre>\n"
      ],
      "text/plain": [
       "\u001b[1mModel: \"sequential_5\"\u001b[0m\n"
      ]
     },
     "metadata": {},
     "output_type": "display_data"
    },
    {
     "data": {
      "text/html": [
       "<pre style=\"white-space:pre;overflow-x:auto;line-height:normal;font-family:Menlo,'DejaVu Sans Mono',consolas,'Courier New',monospace\">┏━━━━━━━━━━━━━━━━━━━━━━━━━━━━━━━━━━━━━━┳━━━━━━━━━━━━━━━━━━━━━━━━━━━━━┳━━━━━━━━━━━━━━━━━┓\n",
       "┃<span style=\"font-weight: bold\"> Layer (type)                         </span>┃<span style=\"font-weight: bold\"> Output Shape                </span>┃<span style=\"font-weight: bold\">         Param # </span>┃\n",
       "┡━━━━━━━━━━━━━━━━━━━━━━━━━━━━━━━━━━━━━━╇━━━━━━━━━━━━━━━━━━━━━━━━━━━━━╇━━━━━━━━━━━━━━━━━┩\n",
       "│ dense_15 (<span style=\"color: #0087ff; text-decoration-color: #0087ff\">Dense</span>)                     │ (<span style=\"color: #00d7ff; text-decoration-color: #00d7ff\">None</span>, <span style=\"color: #00af00; text-decoration-color: #00af00\">128</span>)                 │       <span style=\"color: #00af00; text-decoration-color: #00af00\">1,572,992</span> │\n",
       "├──────────────────────────────────────┼─────────────────────────────┼─────────────────┤\n",
       "│ dense_16 (<span style=\"color: #0087ff; text-decoration-color: #0087ff\">Dense</span>)                     │ (<span style=\"color: #00d7ff; text-decoration-color: #00d7ff\">None</span>, <span style=\"color: #00af00; text-decoration-color: #00af00\">64</span>)                  │           <span style=\"color: #00af00; text-decoration-color: #00af00\">8,256</span> │\n",
       "├──────────────────────────────────────┼─────────────────────────────┼─────────────────┤\n",
       "│ batch_normalization_3                │ (<span style=\"color: #00d7ff; text-decoration-color: #00d7ff\">None</span>, <span style=\"color: #00af00; text-decoration-color: #00af00\">64</span>)                  │             <span style=\"color: #00af00; text-decoration-color: #00af00\">256</span> │\n",
       "│ (<span style=\"color: #0087ff; text-decoration-color: #0087ff\">BatchNormalization</span>)                 │                             │                 │\n",
       "├──────────────────────────────────────┼─────────────────────────────┼─────────────────┤\n",
       "│ dropout_3 (<span style=\"color: #0087ff; text-decoration-color: #0087ff\">Dropout</span>)                  │ (<span style=\"color: #00d7ff; text-decoration-color: #00d7ff\">None</span>, <span style=\"color: #00af00; text-decoration-color: #00af00\">64</span>)                  │               <span style=\"color: #00af00; text-decoration-color: #00af00\">0</span> │\n",
       "├──────────────────────────────────────┼─────────────────────────────┼─────────────────┤\n",
       "│ dense_17 (<span style=\"color: #0087ff; text-decoration-color: #0087ff\">Dense</span>)                     │ (<span style=\"color: #00d7ff; text-decoration-color: #00d7ff\">None</span>, <span style=\"color: #00af00; text-decoration-color: #00af00\">2</span>)                   │             <span style=\"color: #00af00; text-decoration-color: #00af00\">130</span> │\n",
       "└──────────────────────────────────────┴─────────────────────────────┴─────────────────┘\n",
       "</pre>\n"
      ],
      "text/plain": [
       "┏━━━━━━━━━━━━━━━━━━━━━━━━━━━━━━━━━━━━━━┳━━━━━━━━━━━━━━━━━━━━━━━━━━━━━┳━━━━━━━━━━━━━━━━━┓\n",
       "┃\u001b[1m \u001b[0m\u001b[1mLayer (type)                        \u001b[0m\u001b[1m \u001b[0m┃\u001b[1m \u001b[0m\u001b[1mOutput Shape               \u001b[0m\u001b[1m \u001b[0m┃\u001b[1m \u001b[0m\u001b[1m        Param #\u001b[0m\u001b[1m \u001b[0m┃\n",
       "┡━━━━━━━━━━━━━━━━━━━━━━━━━━━━━━━━━━━━━━╇━━━━━━━━━━━━━━━━━━━━━━━━━━━━━╇━━━━━━━━━━━━━━━━━┩\n",
       "│ dense_15 (\u001b[38;5;33mDense\u001b[0m)                     │ (\u001b[38;5;45mNone\u001b[0m, \u001b[38;5;34m128\u001b[0m)                 │       \u001b[38;5;34m1,572,992\u001b[0m │\n",
       "├──────────────────────────────────────┼─────────────────────────────┼─────────────────┤\n",
       "│ dense_16 (\u001b[38;5;33mDense\u001b[0m)                     │ (\u001b[38;5;45mNone\u001b[0m, \u001b[38;5;34m64\u001b[0m)                  │           \u001b[38;5;34m8,256\u001b[0m │\n",
       "├──────────────────────────────────────┼─────────────────────────────┼─────────────────┤\n",
       "│ batch_normalization_3                │ (\u001b[38;5;45mNone\u001b[0m, \u001b[38;5;34m64\u001b[0m)                  │             \u001b[38;5;34m256\u001b[0m │\n",
       "│ (\u001b[38;5;33mBatchNormalization\u001b[0m)                 │                             │                 │\n",
       "├──────────────────────────────────────┼─────────────────────────────┼─────────────────┤\n",
       "│ dropout_3 (\u001b[38;5;33mDropout\u001b[0m)                  │ (\u001b[38;5;45mNone\u001b[0m, \u001b[38;5;34m64\u001b[0m)                  │               \u001b[38;5;34m0\u001b[0m │\n",
       "├──────────────────────────────────────┼─────────────────────────────┼─────────────────┤\n",
       "│ dense_17 (\u001b[38;5;33mDense\u001b[0m)                     │ (\u001b[38;5;45mNone\u001b[0m, \u001b[38;5;34m2\u001b[0m)                   │             \u001b[38;5;34m130\u001b[0m │\n",
       "└──────────────────────────────────────┴─────────────────────────────┴─────────────────┘\n"
      ]
     },
     "metadata": {},
     "output_type": "display_data"
    },
    {
     "data": {
      "text/html": [
       "<pre style=\"white-space:pre;overflow-x:auto;line-height:normal;font-family:Menlo,'DejaVu Sans Mono',consolas,'Courier New',monospace\"><span style=\"font-weight: bold\"> Total params: </span><span style=\"color: #00af00; text-decoration-color: #00af00\">1,581,634</span> (6.03 MB)\n",
       "</pre>\n"
      ],
      "text/plain": [
       "\u001b[1m Total params: \u001b[0m\u001b[38;5;34m1,581,634\u001b[0m (6.03 MB)\n"
      ]
     },
     "metadata": {},
     "output_type": "display_data"
    },
    {
     "data": {
      "text/html": [
       "<pre style=\"white-space:pre;overflow-x:auto;line-height:normal;font-family:Menlo,'DejaVu Sans Mono',consolas,'Courier New',monospace\"><span style=\"font-weight: bold\"> Trainable params: </span><span style=\"color: #00af00; text-decoration-color: #00af00\">1,581,506</span> (6.03 MB)\n",
       "</pre>\n"
      ],
      "text/plain": [
       "\u001b[1m Trainable params: \u001b[0m\u001b[38;5;34m1,581,506\u001b[0m (6.03 MB)\n"
      ]
     },
     "metadata": {},
     "output_type": "display_data"
    },
    {
     "data": {
      "text/html": [
       "<pre style=\"white-space:pre;overflow-x:auto;line-height:normal;font-family:Menlo,'DejaVu Sans Mono',consolas,'Courier New',monospace\"><span style=\"font-weight: bold\"> Non-trainable params: </span><span style=\"color: #00af00; text-decoration-color: #00af00\">128</span> (512.00 B)\n",
       "</pre>\n"
      ],
      "text/plain": [
       "\u001b[1m Non-trainable params: \u001b[0m\u001b[38;5;34m128\u001b[0m (512.00 B)\n"
      ]
     },
     "metadata": {},
     "output_type": "display_data"
    }
   ],
   "source": [
    "Network.summary()"
   ]
  },
  {
   "cell_type": "code",
   "execution_count": 50,
   "id": "595c595e",
   "metadata": {},
   "outputs": [],
   "source": [
    "Network.compile(optimizer=\"Adam\", \n",
    "                loss=\"binary_crossentropy\",\n",
    "                metrics=[\"accuracy\"])"
   ]
  },
  {
   "cell_type": "code",
   "execution_count": 51,
   "id": "49e63c1d",
   "metadata": {},
   "outputs": [
    {
     "name": "stdout",
     "output_type": "stream",
     "text": [
      "Epoch 1/30\n",
      "103/103 - 2s - 19ms/step - accuracy: 0.7745 - loss: 0.4996 - val_accuracy: 0.8370 - val_loss: 0.3902 - learning_rate: 0.0010\n",
      "Epoch 2/30\n",
      "103/103 - 1s - 10ms/step - accuracy: 0.8752 - loss: 0.3260 - val_accuracy: 0.8840 - val_loss: 0.2751 - learning_rate: 0.0010\n",
      "Epoch 3/30\n",
      "103/103 - 1s - 6ms/step - accuracy: 0.8967 - loss: 0.2652 - val_accuracy: 0.8690 - val_loss: 0.3088 - learning_rate: 0.0010\n",
      "Epoch 4/30\n",
      "103/103 - 1s - 7ms/step - accuracy: 0.9170 - loss: 0.2206 - val_accuracy: 0.8710 - val_loss: 0.3202 - learning_rate: 0.0010\n",
      "Epoch 5/30\n",
      "103/103 - 1s - 6ms/step - accuracy: 0.9246 - loss: 0.1906 - val_accuracy: 0.8370 - val_loss: 0.4212 - learning_rate: 0.0010\n",
      "Epoch 6/30\n",
      "103/103 - 1s - 6ms/step - accuracy: 0.9479 - loss: 0.1461 - val_accuracy: 0.9270 - val_loss: 0.1924 - learning_rate: 2.0000e-04\n",
      "Epoch 7/30\n",
      "103/103 - 1s - 7ms/step - accuracy: 0.9523 - loss: 0.1328 - val_accuracy: 0.9250 - val_loss: 0.1936 - learning_rate: 2.0000e-04\n",
      "Epoch 8/30\n",
      "103/103 - 1s - 7ms/step - accuracy: 0.9573 - loss: 0.1245 - val_accuracy: 0.9350 - val_loss: 0.1894 - learning_rate: 2.0000e-04\n",
      "Epoch 9/30\n",
      "103/103 - 1s - 7ms/step - accuracy: 0.9590 - loss: 0.1170 - val_accuracy: 0.9270 - val_loss: 0.1851 - learning_rate: 2.0000e-04\n",
      "Epoch 10/30\n",
      "103/103 - 1s - 7ms/step - accuracy: 0.9628 - loss: 0.1106 - val_accuracy: 0.9130 - val_loss: 0.2278 - learning_rate: 2.0000e-04\n",
      "Epoch 11/30\n",
      "103/103 - 1s - 7ms/step - accuracy: 0.9625 - loss: 0.1060 - val_accuracy: 0.9270 - val_loss: 0.2131 - learning_rate: 2.0000e-04\n",
      "Epoch 12/30\n",
      "103/103 - 1s - 7ms/step - accuracy: 0.9647 - loss: 0.1021 - val_accuracy: 0.9150 - val_loss: 0.2501 - learning_rate: 2.0000e-04\n",
      "Epoch 13/30\n",
      "103/103 - 1s - 7ms/step - accuracy: 0.9689 - loss: 0.0924 - val_accuracy: 0.9030 - val_loss: 0.2439 - learning_rate: 1.0000e-04\n",
      "Epoch 14/30\n",
      "103/103 - 1s - 7ms/step - accuracy: 0.9709 - loss: 0.0860 - val_accuracy: 0.9100 - val_loss: 0.2347 - learning_rate: 1.0000e-04\n",
      "Epoch 15/30\n",
      "103/103 - 1s - 8ms/step - accuracy: 0.9703 - loss: 0.0834 - val_accuracy: 0.9050 - val_loss: 0.2348 - learning_rate: 1.0000e-04\n",
      "Epoch 16/30\n",
      "103/103 - 1s - 7ms/step - accuracy: 0.9659 - loss: 0.0897 - val_accuracy: 0.9180 - val_loss: 0.2048 - learning_rate: 1.0000e-04\n",
      "Epoch 17/30\n",
      "103/103 - 1s - 7ms/step - accuracy: 0.9732 - loss: 0.0795 - val_accuracy: 0.9240 - val_loss: 0.2076 - learning_rate: 1.0000e-04\n",
      "Epoch 18/30\n",
      "103/103 - 1s - 7ms/step - accuracy: 0.9744 - loss: 0.0759 - val_accuracy: 0.9260 - val_loss: 0.1950 - learning_rate: 1.0000e-04\n",
      "Epoch 19/30\n",
      "103/103 - 1s - 7ms/step - accuracy: 0.9704 - loss: 0.0816 - val_accuracy: 0.9160 - val_loss: 0.2256 - learning_rate: 1.0000e-04\n",
      "Epoch 20/30\n",
      "103/103 - 1s - 6ms/step - accuracy: 0.9758 - loss: 0.0723 - val_accuracy: 0.9120 - val_loss: 0.2371 - learning_rate: 1.0000e-04\n",
      "Epoch 21/30\n",
      "103/103 - 1s - 7ms/step - accuracy: 0.9733 - loss: 0.0762 - val_accuracy: 0.9280 - val_loss: 0.1984 - learning_rate: 1.0000e-04\n",
      "Epoch 22/30\n",
      "103/103 - 1s - 7ms/step - accuracy: 0.9752 - loss: 0.0705 - val_accuracy: 0.9310 - val_loss: 0.1950 - learning_rate: 1.0000e-04\n",
      "Epoch 23/30\n",
      "103/103 - 1s - 7ms/step - accuracy: 0.9785 - loss: 0.0682 - val_accuracy: 0.9040 - val_loss: 0.2633 - learning_rate: 1.0000e-04\n",
      "Epoch 24/30\n",
      "103/103 - 1s - 7ms/step - accuracy: 0.9784 - loss: 0.0644 - val_accuracy: 0.9260 - val_loss: 0.2174 - learning_rate: 1.0000e-04\n",
      "Epoch 25/30\n",
      "103/103 - 1s - 6ms/step - accuracy: 0.9788 - loss: 0.0642 - val_accuracy: 0.9230 - val_loss: 0.2122 - learning_rate: 1.0000e-04\n",
      "Epoch 26/30\n",
      "103/103 - 1s - 6ms/step - accuracy: 0.9813 - loss: 0.0614 - val_accuracy: 0.9150 - val_loss: 0.2336 - learning_rate: 1.0000e-04\n",
      "Epoch 27/30\n",
      "103/103 - 1s - 6ms/step - accuracy: 0.9822 - loss: 0.0557 - val_accuracy: 0.9260 - val_loss: 0.2160 - learning_rate: 1.0000e-04\n",
      "Epoch 28/30\n",
      "103/103 - 1s - 8ms/step - accuracy: 0.9826 - loss: 0.0551 - val_accuracy: 0.9290 - val_loss: 0.2180 - learning_rate: 1.0000e-04\n",
      "Epoch 29/30\n",
      "103/103 - 1s - 6ms/step - accuracy: 0.9828 - loss: 0.0519 - val_accuracy: 0.9180 - val_loss: 0.2392 - learning_rate: 1.0000e-04\n",
      "Epoch 30/30\n",
      "103/103 - 1s - 6ms/step - accuracy: 0.9813 - loss: 0.0553 - val_accuracy: 0.9120 - val_loss: 0.2435 - learning_rate: 1.0000e-04\n"
     ]
    }
   ],
   "source": [
    "from tensorflow.keras.callbacks import ReduceLROnPlateau\n",
    "reduce_lr = ReduceLROnPlateau(monitor='val_loss', factor=0.2, patience=3, min_lr=0.0001)\n",
    "History = Network.fit(X_train, y_train, epochs=30, batch_size=64, verbose=2, validation_data=(X_test , y_test), callbacks=[reduce_lr])"
   ]
  },
  {
   "cell_type": "code",
   "execution_count": null,
   "id": "191989df",
   "metadata": {
    "scrolled": true
   },
   "outputs": [],
   "source": [
    "# History = Network.fit(scaled_x_train, y_train, epochs=20, verbose=2, validation_split=0.2, batch_size = 10)"
   ]
  },
  {
   "cell_type": "code",
   "execution_count": null,
   "id": "23df2078",
   "metadata": {},
   "outputs": [],
   "source": [
    "# History = Network.fit(X_train , y_train , batch_size = 32 ,  epochs=20, verbose=2, validation_data = (X_test , y_test)) "
   ]
  },
  {
   "cell_type": "code",
   "execution_count": 52,
   "id": "17e6934f",
   "metadata": {
    "scrolled": true
   },
   "outputs": [
    {
     "data": {
      "text/plain": [
       "<matplotlib.legend.Legend at 0x1e2500801d0>"
      ]
     },
     "execution_count": 52,
     "metadata": {},
     "output_type": "execute_result"
    },
    {
     "data": {
      "image/png": "[encoded data removed]",
      "text/plain": [
       "<Figure size 1200x600 with 1 Axes>"
      ]
     },
     "metadata": {},
     "output_type": "display_data"
    }
   ],
   "source": [
    "import matplotlib.pyplot as plt\n",
    "plt.figure(figsize=(12,6))\n",
    "#plt.subplots(1,2,1)\n",
    "plt.plot(History.history[\"loss\"], label = \"Training\")\n",
    "plt.plot(History.history[\"val_loss\"], label = \"validation\")\n",
    "plt.title(\"loss over epochs\")\n",
    "plt.xlabel(\"epoch\")\n",
    "plt.ylabel(\"loss\")\n",
    "plt.legend()"
   ]
  },
  {
   "cell_type": "code",
   "execution_count": 53,
   "id": "c8318147",
   "metadata": {},
   "outputs": [
    {
     "name": "stderr",
     "output_type": "stream",
     "text": [
      "WARNING:absl:You are saving your model as an HDF5 file via `model.save()` or `keras.saving.save_model(model)`. This file format is considered legacy. We recommend using instead the native Keras format, e.g. `model.save('my_model.keras')` or `keras.saving.save_model(model, 'my_model.keras')`. \n"
     ]
    }
   ],
   "source": [
    "Network.save(\"Gender.h5\")"
   ]
  },
  {
   "cell_type": "code",
   "execution_count": null,
   "id": "930982ca",
   "metadata": {},
   "outputs": [],
   "source": []
  }
 ],
 "metadata": {
  "kernelspec": {
   "display_name": "Python 3 (ipykernel)",
   "language": "python",
   "name": "python3"
  },
  "language_info": {
   "codemirror_mode": {
    "name": "ipython",
    "version": 3
   },
   "file_extension": ".py",
   "mimetype": "text/x-python",
   "name": "python",
   "nbconvert_exporter": "python",
   "pygments_lexer": "ipython3",
   "version": "3.12.4"
  }
 },
 "nbformat": 4,
 "nbformat_minor": 5
}
